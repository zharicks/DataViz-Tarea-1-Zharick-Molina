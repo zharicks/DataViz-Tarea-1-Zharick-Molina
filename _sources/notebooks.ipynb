{
 "cells": [
  {
   "cell_type": "markdown",
   "metadata": {},
   "source": [
    "# **Ejercicio 1**\n",
    "\n",
    "Deben identificarse los cinco deportes más importantes según el mayor número de medallas otorgadas en el año 2016, y luego realizar el siguiente análisis:\n",
    "\n",
    "- Gráfico que indique el número de medallas concedidas en cada uno de los cinco principales deportes en 2016.\n",
    "\n",
    "- Gráfico que represente la distribución de la edad de los ganadores de medallas en los cinco principales deportes en 2016.\n",
    "\n",
    "- Qué equipos nacionales ganaron el mayor número de medallas en los cinco principales deportes en 2016.\n",
    "\n",
    "- Tendencia del peso medio de los atletas masculinos y femeninos ganadores en los cinco principales deportes en 2016"
   ]
  },
  {
   "cell_type": "markdown",
   "metadata": {},
   "source": [
    "# **Ejercicio 2**\n",
    "Hola"
   ]
  }
 ],
 "metadata": {
  "kernelspec": {
   "display_name": "Python 3",
   "language": "python",
   "name": "python3"
  },
  "language_info": {
   "codemirror_mode": {
    "name": "ipython",
    "version": 3
   },
   "file_extension": ".py",
   "mimetype": "text/x-python",
   "name": "python",
   "nbconvert_exporter": "python",
   "pygments_lexer": "ipython3",
   "version": "3.9.19"
  },
  "widgets": {
   "application/vnd.jupyter.widget-state+json": {
    "state": {},
    "version_major": 2,
    "version_minor": 0
   }
  }
 },
 "nbformat": 4,
 "nbformat_minor": 4
}
